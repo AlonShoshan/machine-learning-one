{
 "cells": [
  {
   "cell_type": "code",
   "execution_count": 29,
   "metadata": {
    "collapsed": false
   },
   "outputs": [],
   "source": [
    "import basicLib.loadAndTest as orig\n",
    "import basicLib.featureUpdate as featUp\n",
    "import numpy as np\n",
    "import pandas as pd\n",
    "import matplotlib.pyplot as plt\n",
    "import seaborn as sns\n",
    "from pandas import *\n",
    "from pylab import *\n",
    "from sklearn import preprocessing\n",
    "from sklearn.cross_validation import train_test_split\n",
    "from sklearn import metrics\n",
    "import re\n",
    "from sklearn.linear_model import LogisticRegression\n",
    "import basicLib.modelRun as runms\n",
    "from sklearn.neural_network import MLPClassifier\n",
    "from sklearn import tree\n",
    "import time\n",
    "import clf2net\n",
    "import clf2netTest\n",
    "import clf2netTree\n",
    "from sklearn import ensemble"
   ]
  },
  {
   "cell_type": "code",
   "execution_count": 30,
   "metadata": {
    "collapsed": true
   },
   "outputs": [],
   "source": [
    "pathTrain = '../input_clean/users_2014_in_sessions.csv'\n",
    "pathTest = '../input_clean/test_users.csv'\n",
    "\n",
    "usersTrain = pd.read_csv(pathTrain)\n",
    "usersTest = pd.read_csv(pathTest)\n",
    "yRes = pd.DataFrame(usersTrain['country_destination'])\n",
    "yFeat = featUp.countriesFeature()\n",
    "yFeat.update(yRes)\n",
    "usersTrain = usersTrain.drop('country_destination',axis=1)\n",
    "users = pd.concat([usersTrain,usersTest],ignore_index=True)\n",
    "featureStruct=featUp.generateFeatureStruct()\n",
    "for feature in featureStruct:\n",
    "    feature.update(users)\n",
    "orig.initiateUsers(users)\n",
    "featureList = orig.featureList(usersCol=users.columns)\n",
    "Xtest = orig.sortFeatures(users,featureList.get())"
   ]
  },
  {
   "cell_type": "code",
   "execution_count": 38,
   "metadata": {
    "collapsed": true
   },
   "outputs": [],
   "source": [
    "Xlabel = Xtest\n",
    "nonCategoryList=[]\n",
    "for feature, dtype in Xlabel.dtypes.iteritems():\n",
    "    if dtype.name != 'category':\n",
    "        nonCategoryList.append(feature)\n",
    "nonCategoryDF = Xlabel[nonCategoryList]\n",
    "Xlabel = Xlabel.drop(nonCategoryList, 1)\n",
    "\n",
    "labels = Xlabel.columns\n",
    "myLabels = {} # holds the encode labels with value between 0 and n-1\n",
    "n_values = [] # holds the length of each feature in bits ('gender' with 4 option will be 4 bits)\n",
    "X = []\n",
    "for label in Xlabel:\n",
    "    labelAttr = getattr(Xlabel, label)\n",
    "    myLabels[label] = preprocessing.LabelEncoder()\n",
    "    myLabels[label].fit(labelAttr)\n",
    "    if size(labelAttr.unique()) > 400:\n",
    "        raise TypeError('The feature:', label, 'is too big to handle as binary')\n",
    "    n_values.append(size(labelAttr.unique()))\n",
    "    #transform: turn options into 0 to n-1,  reshape+transpose: align the coulumn so it be easier to add them to the table \n",
    "    X.append(myLabels[label].transform(labelAttr).reshape(1,len(labelAttr)).transpose())\n",
    "\n",
    "#There is no category to change\n",
    "\n",
    "temp = np.array([]).reshape(len(X[0]),0)\n",
    "for i in range(len(X)):\n",
    "    temp = concatenate((temp,X[i]),axis=1)\n",
    "X = temp\n",
    "\n",
    "enc = preprocessing.OneHotEncoder(n_values=n_values)\n",
    "enc.fit(X)\n",
    "X_byte = enc.transform(X).toarray()\n",
    "\n",
    "X_byteDF = orig.makeDataFrame(X_byte,labels,n_values)\n",
    "result = pd.concat([X_byteDF, nonCategoryDF], axis=1)"
   ]
  },
  {
   "cell_type": "code",
   "execution_count": 39,
   "metadata": {
    "collapsed": false
   },
   "outputs": [
    {
     "name": "stdout",
     "output_type": "stream",
     "text": [
      "first_affiliate_tracked : nan\n",
      "first_browser : Opera Mobile\n",
      "first_browser : IBrowse\n",
      "first_browser : Nintendo Browser\n",
      "first_browser : CometBird\n",
      "first_browser : UC Browser\n",
      "language : -unknown-\n",
      "signup_method : weibo\n",
      "signup_flow : 14\n",
      "signup_method , weibo\n",
      "signup_flow , 14\n",
      "language , -unknown-\n",
      "first_affiliate_tracked , nan\n",
      "first_browser , Opera Mobile\n",
      "first_browser , IBrowse\n",
      "first_browser , Nintendo Browser\n",
      "first_browser , CometBird\n",
      "first_browser , UC Browser\n"
     ]
    }
   ],
   "source": [
    "myDrop = {}\n",
    "myList=('affiliate_channel', 'affiliate_provider', 'first_affiliate_tracked',\n",
    "        'first_browser', 'first_device_type', 'gender', 'language',\n",
    "        'signup_app', 'signup_method', 'signup_flow')\n",
    "for i in myList:\n",
    "    attrTest = getattr(usersTest,i)\n",
    "    attrTrain = getattr(usersTrain,i)\n",
    "    myDrop[i] = []\n",
    "    for x in attrTest.unique():\n",
    "        if x not in attrTrain.unique():\n",
    "            myDrop[i].append(x)\n",
    "            print(i,':', x)\n",
    "for key in myDrop.keys():\n",
    "    for testCat in myDrop[key]:\n",
    "        print(key,',', testCat)\n",
    "        if pd.isnull(testCat): continue\n",
    "        myInd = myLabels[key].classes_.tolist().index(testCat)\n",
    "        label = key + '_' + str(myInd)\n",
    "        result = result.drop(label,axis=1)"
   ]
  },
  {
   "cell_type": "code",
   "execution_count": 40,
   "metadata": {
    "collapsed": false
   },
   "outputs": [
    {
     "name": "stdout",
     "output_type": "stream",
     "text": [
      "affiliate_channel_0\n",
      "affiliate_channel_1\n",
      "affiliate_channel_2\n",
      "affiliate_channel_3\n",
      "affiliate_channel_4\n",
      "affiliate_channel_5\n",
      "affiliate_channel_6\n",
      "affiliate_channel_7\n",
      "affiliate_provider_0\n",
      "affiliate_provider_1\n",
      "affiliate_provider_2\n",
      "affiliate_provider_3\n",
      "affiliate_provider_4\n",
      "affiliate_provider_5\n",
      "affiliate_provider_6\n",
      "affiliate_provider_7\n",
      "affiliate_provider_8\n",
      "affiliate_provider_9\n",
      "affiliate_provider_10\n",
      "affiliate_provider_11\n",
      "affiliate_provider_12\n",
      "affiliate_provider_13\n",
      "affiliate_provider_14\n",
      "affiliate_provider_15\n",
      "affiliate_provider_16\n",
      "first_affiliate_tracked_0\n",
      "first_affiliate_tracked_1\n",
      "first_affiliate_tracked_2\n",
      "first_affiliate_tracked_3\n",
      "first_affiliate_tracked_4\n",
      "first_affiliate_tracked_5\n",
      "first_affiliate_tracked_6\n",
      "first_affiliate_tracked_7\n",
      "first_browser_0\n",
      "first_browser_1\n",
      "first_browser_2\n",
      "first_browser_3\n",
      "first_browser_4\n",
      "first_browser_5\n",
      "first_browser_6\n",
      "first_browser_7\n",
      "first_browser_8\n",
      "first_browser_10\n",
      "first_browser_11\n",
      "first_browser_12\n",
      "first_browser_14\n",
      "first_browser_15\n",
      "first_browser_16\n",
      "first_browser_17\n",
      "first_browser_18\n",
      "first_browser_19\n",
      "first_browser_20\n",
      "first_browser_21\n",
      "first_browser_22\n",
      "first_browser_24\n",
      "first_browser_25\n",
      "first_browser_27\n",
      "first_browser_28\n",
      "first_browser_29\n",
      "first_browser_30\n",
      "first_browser_31\n",
      "first_browser_32\n",
      "first_browser_33\n",
      "first_browser_34\n",
      "first_browser_35\n",
      "first_browser_36\n",
      "first_browser_38\n",
      "first_browser_39\n",
      "first_device_type_0\n",
      "first_device_type_1\n",
      "first_device_type_2\n",
      "first_device_type_3\n",
      "first_device_type_4\n",
      "first_device_type_5\n",
      "first_device_type_6\n",
      "first_device_type_7\n",
      "first_device_type_8\n",
      "language_1\n",
      "language_2\n",
      "language_3\n",
      "language_4\n",
      "language_5\n",
      "language_6\n",
      "language_7\n",
      "language_8\n",
      "language_9\n",
      "language_10\n",
      "language_11\n",
      "language_12\n",
      "language_13\n",
      "language_14\n",
      "language_15\n",
      "language_16\n",
      "language_17\n",
      "language_18\n",
      "language_19\n",
      "language_20\n",
      "language_21\n",
      "language_22\n",
      "language_23\n",
      "language_24\n",
      "signup_app_0\n",
      "signup_app_1\n",
      "signup_app_2\n",
      "signup_app_3\n",
      "signup_method_0\n",
      "signup_method_1\n",
      "signup_method_2\n",
      "signup_flow_0\n",
      "signup_flow_1\n",
      "signup_flow_2\n",
      "signup_flow_4\n",
      "signup_flow_5\n",
      "signup_flow_6\n",
      "signup_flow_7\n",
      "date_account_created_month_0\n",
      "date_account_created_month_1\n",
      "date_account_created_month_2\n",
      "date_account_created_month_3\n",
      "date_account_created_month_4\n",
      "date_account_created_month_5\n",
      "date_account_created_month_6\n",
      "date_account_created_month_7\n",
      "date_account_created_month_8\n",
      "date_account_created_dayofweek_0\n",
      "date_account_created_dayofweek_1\n",
      "date_account_created_dayofweek_2\n",
      "date_account_created_dayofweek_3\n",
      "date_account_created_dayofweek_4\n",
      "date_account_created_dayofweek_5\n",
      "date_account_created_dayofweek_6\n",
      "gender_0\n",
      "gender_1\n",
      "gender_2\n",
      "gender_3\n",
      "age\n",
      "validAge\n"
     ]
    },
    {
     "data": {
      "text/plain": [
       "137"
      ]
     },
     "execution_count": 40,
     "metadata": {},
     "output_type": "execute_result"
    }
   ],
   "source": [
    "for i in result.columns:\n",
    "    print(i)\n",
    "len(result.columns)"
   ]
  },
  {
   "cell_type": "code",
   "execution_count": 41,
   "metadata": {
    "collapsed": true
   },
   "outputs": [],
   "source": [
    "result = orig.removeColumns(result,('date_account_created_month',))"
   ]
  },
  {
   "cell_type": "code",
   "execution_count": 5,
   "metadata": {
    "collapsed": true
   },
   "outputs": [],
   "source": [
    "result = result.drop('date_account_created_month_6',axis=1)\n",
    "result = result.drop('date_account_created_month_7',axis=1)\n",
    "result = result.drop('date_account_created_month_8',axis=1)"
   ]
  },
  {
   "cell_type": "code",
   "execution_count": 43,
   "metadata": {
    "collapsed": true
   },
   "outputs": [],
   "source": [
    "orig.normDf(result)\n",
    "result['id'] = users['id']"
   ]
  },
  {
   "cell_type": "code",
   "execution_count": 44,
   "metadata": {
    "collapsed": true
   },
   "outputs": [],
   "source": [
    "finalTrain = result[0:len(yRes)]\n",
    "finalTest = result[len(yRes):]"
   ]
  },
  {
   "cell_type": "code",
   "execution_count": 45,
   "metadata": {
    "collapsed": true
   },
   "outputs": [],
   "source": [
    "finalTrainUse = finalTrain.drop('id',axis=1)\n",
    "finalTestUse = finalTest.drop('id',axis=1)"
   ]
  },
  {
   "cell_type": "markdown",
   "metadata": {},
   "source": [
    "### training"
   ]
  },
  {
   "cell_type": "code",
   "execution_count": 8,
   "metadata": {
    "collapsed": true
   },
   "outputs": [],
   "source": [
    "X_train, X_test, y_train, y_test = train_test_split(finalTrain, yRes['country_destination'])"
   ]
  },
  {
   "cell_type": "code",
   "execution_count": null,
   "metadata": {
    "collapsed": true
   },
   "outputs": [],
   "source": [
    "predictMethod = LogisticRegression()\n",
    "predictMethod.fit(X_train,y_train)"
   ]
  },
  {
   "cell_type": "code",
   "execution_count": null,
   "metadata": {
    "collapsed": true
   },
   "outputs": [],
   "source": [
    "y_pred = predictMethod.predict(X_test)\n",
    "accuracy_score = metrics.accuracy_score(y_test, y_pred)\n",
    "y_pred_proba_temp = predictMethod.predict_proba(X_test)"
   ]
  },
  {
   "cell_type": "code",
   "execution_count": null,
   "metadata": {
    "collapsed": true
   },
   "outputs": [],
   "source": [
    "accuracy_score"
   ]
  },
  {
   "cell_type": "code",
   "execution_count": null,
   "metadata": {
    "collapsed": true
   },
   "outputs": [],
   "source": [
    "myArr = []\n",
    "for x in y_pred_proba_temp:\n",
    "    order = np.argsort(x)[::-1]\n",
    "    myArr.append(predictMethod.classes_[order[:5]])"
   ]
  },
  {
   "cell_type": "code",
   "execution_count": 14,
   "metadata": {
    "collapsed": false
   },
   "outputs": [
    {
     "data": {
      "text/plain": [
       "213451"
      ]
     },
     "execution_count": 14,
     "metadata": {},
     "output_type": "execute_result"
    }
   ],
   "source": [
    "len(finalTrainUse)"
   ]
  },
  {
   "cell_type": "markdown",
   "metadata": {},
   "source": [
    "### send to airbnb - regression"
   ]
  },
  {
   "cell_type": "code",
   "execution_count": 46,
   "metadata": {
    "collapsed": false
   },
   "outputs": [
    {
     "name": "stdout",
     "output_type": "stream",
     "text": [
      "76.1757378578186\n"
     ]
    }
   ],
   "source": [
    "start = time.time()\n",
    "predictMethod = LogisticRegression()\n",
    "predictMethod.fit(finalTrainUse,yRes['country_destination'])\n",
    "end = time.time()\n",
    "print(end-start)"
   ]
  },
  {
   "cell_type": "code",
   "execution_count": 47,
   "metadata": {
    "collapsed": true
   },
   "outputs": [],
   "source": [
    "y_pred = predictMethod.predict(finalTestUse)\n",
    "#accuracy_score = metrics.accuracy_score(y_test, y_pred)\n",
    "y_pred_proba_temp = predictMethod.predict_proba(finalTestUse)"
   ]
  },
  {
   "cell_type": "markdown",
   "metadata": {},
   "source": [
    "#### only 1 destionation"
   ]
  },
  {
   "cell_type": "code",
   "execution_count": 48,
   "metadata": {
    "collapsed": false
   },
   "outputs": [],
   "source": [
    "idCol = finalTest['id']\n",
    "idCol = idCol.reset_index(drop=True)\n",
    "d = {'id' : idCol, 'country' : pd.Series(y_pred)}"
   ]
  },
  {
   "cell_type": "code",
   "execution_count": 49,
   "metadata": {
    "collapsed": true
   },
   "outputs": [],
   "source": [
    "df = pd.DataFrame(d,columns=['id', 'country'])\n",
    "df.to_csv('../submission/submission_regression_2014_woMonthes_S.csv',index=False)"
   ]
  },
  {
   "cell_type": "markdown",
   "metadata": {},
   "source": [
    "#### to put 5 destination"
   ]
  },
  {
   "cell_type": "code",
   "execution_count": 50,
   "metadata": {
    "collapsed": true
   },
   "outputs": [],
   "source": [
    "myArr = []\n",
    "for x in y_pred_proba_temp:\n",
    "    order = np.argsort(x)[::-1]\n",
    "    for i in predictMethod.classes_[order[:5]]:\n",
    "        myArr.append(i)\n",
    "idCol = usersTest.id.repeat(5)\n",
    "idCol = idCol.reset_index(drop=True)"
   ]
  },
  {
   "cell_type": "code",
   "execution_count": 51,
   "metadata": {
    "collapsed": true
   },
   "outputs": [],
   "source": [
    "d = {'id' : idCol , 'country' : pd.Series(myArr)}"
   ]
  },
  {
   "cell_type": "code",
   "execution_count": 52,
   "metadata": {
    "collapsed": true
   },
   "outputs": [],
   "source": [
    "df = pd.DataFrame(d,columns=['id', 'country'])\n",
    "df.to_csv('../submission/submission_regression_2014_woMonthes_M.csv',index=False)"
   ]
  },
  {
   "cell_type": "markdown",
   "metadata": {},
   "source": [
    "### send to airbnb - tree"
   ]
  },
  {
   "cell_type": "code",
   "execution_count": 42,
   "metadata": {
    "collapsed": false
   },
   "outputs": [
    {
     "data": {
      "text/plain": [
       "DecisionTreeClassifier(class_weight=None, criterion='gini', max_depth=None,\n",
       "            max_features=None, max_leaf_nodes=None,\n",
       "            min_impurity_split=1e-07, min_samples_leaf=1,\n",
       "            min_samples_split=2, min_weight_fraction_leaf=0.0,\n",
       "            presort=False, random_state=None, splitter='best')"
      ]
     },
     "execution_count": 42,
     "metadata": {},
     "output_type": "execute_result"
    }
   ],
   "source": [
    "predictMethod_tree = tree.DecisionTreeClassifier()\n",
    "predictMethod_tree.fit(finalTrainUse,yRes['country_destination'])"
   ]
  },
  {
   "cell_type": "code",
   "execution_count": 44,
   "metadata": {
    "collapsed": true
   },
   "outputs": [],
   "source": [
    "y_pred = predictMethod_tree.predict(finalTestUse)\n",
    "#accuracy_score = metrics.accuracy_score(y_test, y_pred)\n",
    "y_pred_proba_temp = predictMethod_tree.predict_proba(finalTestUse)"
   ]
  },
  {
   "cell_type": "code",
   "execution_count": 46,
   "metadata": {
    "collapsed": true
   },
   "outputs": [],
   "source": [
    "idCol = finalTest['id']\n",
    "idCol = idCol.reset_index(drop=True)\n",
    "d = {'id' : idCol, 'country' : pd.Series(y_pred)}"
   ]
  },
  {
   "cell_type": "code",
   "execution_count": 47,
   "metadata": {
    "collapsed": true
   },
   "outputs": [],
   "source": [
    "df = pd.DataFrame(d,columns=['id', 'country'])\n",
    "df.to_csv('../submission/submission_tree_firstS.csv',index=False)"
   ]
  },
  {
   "cell_type": "code",
   "execution_count": 49,
   "metadata": {
    "collapsed": true
   },
   "outputs": [],
   "source": [
    "myArr = []\n",
    "for x in y_pred_proba_temp:\n",
    "    order = np.argsort(x)[::-1]\n",
    "    for i in predictMethod.classes_[order[:5]]:\n",
    "        myArr.append(i)\n",
    "idCol = usersTest.id.repeat(5)\n",
    "idCol = idCol.reset_index(drop=True)\n",
    "d = {'id' : idCol , 'country' : pd.Series(myArr)}\n",
    "df = pd.DataFrame(d,columns=['id', 'country'])\n",
    "df.to_csv('../submission/submission_tree_firstM.csv',index=False)"
   ]
  },
  {
   "cell_type": "markdown",
   "metadata": {},
   "source": [
    "### send to airbnb - neural"
   ]
  },
  {
   "cell_type": "code",
   "execution_count": 17,
   "metadata": {
    "collapsed": false
   },
   "outputs": [
    {
     "name": "stdout",
     "output_type": "stream",
     "text": [
      "53.58267402648926\n"
     ]
    }
   ],
   "source": [
    "start = time.time()\n",
    "predictMethod_NN = MLPClassifier(solver='lbfgs', alpha=1e-5)\n",
    "predictMethod_NN.fit(finalTrainUse,yRes['country_destination'])\n",
    "end = time.time()\n",
    "print(end-start)"
   ]
  },
  {
   "cell_type": "code",
   "execution_count": 18,
   "metadata": {
    "collapsed": true
   },
   "outputs": [],
   "source": [
    "y_pred = predictMethod_NN.predict(finalTestUse)\n",
    "#accuracy_score = metrics.accuracy_score(y_test, y_pred)\n",
    "y_pred_proba_temp = predictMethod_NN.predict_proba(finalTestUse)\n",
    "idCol = finalTest['id']\n",
    "idCol = idCol.reset_index(drop=True)\n",
    "d = {'id' : idCol, 'country' : pd.Series(y_pred)}\n",
    "df = pd.DataFrame(d,columns=['id', 'country'])\n",
    "df.to_csv('../submission/submission_NN_2014S.csv',index=False)\n",
    "myArr = []\n",
    "for x in y_pred_proba_temp:\n",
    "    order = np.argsort(x)[::-1]\n",
    "    for i in predictMethod.classes_[order[:5]]:\n",
    "        myArr.append(i)\n",
    "idCol = usersTest.id.repeat(5)\n",
    "idCol = idCol.reset_index(drop=True)\n",
    "d = {'id' : idCol , 'country' : pd.Series(myArr)}\n",
    "df = pd.DataFrame(d,columns=['id', 'country'])\n",
    "df.to_csv('../submission/submission_NN_2014M.csv',index=False)"
   ]
  },
  {
   "cell_type": "code",
   "execution_count": null,
   "metadata": {
    "collapsed": true
   },
   "outputs": [],
   "source": []
  }
 ],
 "metadata": {
  "kernelspec": {
   "display_name": "Python [conda root]",
   "language": "python",
   "name": "conda-root-py"
  },
  "language_info": {
   "codemirror_mode": {
    "name": "ipython",
    "version": 3
   },
   "file_extension": ".py",
   "mimetype": "text/x-python",
   "name": "python",
   "nbconvert_exporter": "python",
   "pygments_lexer": "ipython3",
   "version": "3.5.2"
  }
 },
 "nbformat": 4,
 "nbformat_minor": 1
}
