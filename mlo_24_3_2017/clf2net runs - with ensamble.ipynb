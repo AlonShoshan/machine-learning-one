{
 "cells": [
  {
   "cell_type": "code",
   "execution_count": 1,
   "metadata": {
    "collapsed": false
   },
   "outputs": [
    {
     "name": "stderr",
     "output_type": "stream",
     "text": [
      "C:\\Anaconda3\\lib\\site-packages\\sklearn\\cross_validation.py:44: DeprecationWarning: This module was deprecated in version 0.18 in favor of the model_selection module into which all the refactored classes and functions are moved. Also note that the interface of the new CV iterators are different from that of this module. This module will be removed in 0.20.\n",
      "  \"This module will be removed in 0.20.\", DeprecationWarning)\n"
     ]
    }
   ],
   "source": [
    "import basicLib.loadAndTest as orig\n",
    "import basicLib.featureUpdate as featUp\n",
    "import numpy as np\n",
    "import pandas as pd\n",
    "import matplotlib.pyplot as plt\n",
    "import seaborn as sns\n",
    "from pandas import *\n",
    "from pylab import *\n",
    "from sklearn import preprocessing\n",
    "from sklearn.cross_validation import train_test_split\n",
    "from sklearn import metrics\n",
    "import re\n",
    "from sklearn.linear_model import LogisticRegression\n",
    "import basicLib.modelRun as runms\n",
    "from sklearn.neural_network import MLPClassifier\n",
    "from sklearn import tree\n",
    "import time\n",
    "import clf2net\n",
    "import clf2netTest\n",
    "import clf2netTree\n",
    "from sklearn import ensemble"
   ]
  },
  {
   "cell_type": "code",
   "execution_count": 2,
   "metadata": {
    "collapsed": true
   },
   "outputs": [],
   "source": [
    "pathTrain = '../input_clean/users_train_final.csv'\n",
    "pathTest = '../input_clean/users_test_final.csv'\n",
    "pathyRes = '../input_clean/yRes_final.csv'"
   ]
  },
  {
   "cell_type": "code",
   "execution_count": 3,
   "metadata": {
    "collapsed": true
   },
   "outputs": [],
   "source": [
    "finalTrain = pd.read_csv(pathTrain)\n",
    "finalTest = pd.read_csv(pathTest)\n",
    "yRes = pd.read_csv(pathyRes)"
   ]
  },
  {
   "cell_type": "code",
   "execution_count": 4,
   "metadata": {
    "collapsed": true
   },
   "outputs": [],
   "source": [
    "finalTrainUse = finalTrain.drop('id',axis=1)\n",
    "finalTestUse = finalTest.drop('id',axis=1)"
   ]
  },
  {
   "cell_type": "markdown",
   "metadata": {},
   "source": [
    "### clf2net"
   ]
  },
  {
   "cell_type": "code",
   "execution_count": 5,
   "metadata": {
    "collapsed": true
   },
   "outputs": [],
   "source": [
    "predictMethod = MLPClassifier(solver='lbfgs', alpha=1e-5)\n",
    "predictMethod1 = LogisticRegression()\n",
    "predictMethod2 = ensemble.GradientBoostingClassifier()"
   ]
  },
  {
   "cell_type": "markdown",
   "metadata": {},
   "source": [
    "##### false, false"
   ]
  },
  {
   "cell_type": "code",
   "execution_count": null,
   "metadata": {
    "collapsed": false
   },
   "outputs": [],
   "source": [
    "start = time.time()\n",
    "myClf = clf2net.clf2net((predictMethod1,predictMethod2),predictMethod)\n",
    "myClf.fit(finalTrainUse,yRes['country_destination'])\n",
    "end = time.time()\n",
    "print(end-start)"
   ]
  },
  {
   "cell_type": "code",
   "execution_count": 39,
   "metadata": {
    "collapsed": false
   },
   "outputs": [
    {
     "name": "stdout",
     "output_type": "stream",
     "text": [
      "0.673255443572998\n"
     ]
    }
   ],
   "source": [
    "start = time.time()\n",
    "y_pred = myClf.predict(finalTestUse)\n",
    "end = time.time()\n",
    "print(end-start)\n",
    "#y_pred = myClf.get_y_pred()\n",
    "#accuracy_score = metrics.accuracy_score(y_test, y_pred)\n",
    "y_pred_proba_temp = myClf.predict_proba(finalTestUse)"
   ]
  },
  {
   "cell_type": "code",
   "execution_count": 32,
   "metadata": {
    "collapsed": true
   },
   "outputs": [],
   "source": [
    "idCol = finalTest['id']\n",
    "idCol = idCol.reset_index(drop=True)\n",
    "d = {'id' : idCol, 'country' : pd.Series(y_pred)}\n",
    "df = pd.DataFrame(d,columns=['id', 'country'])\n",
    "df.to_csv('../submission/submission_clf2netFF_S.csv',index=False)"
   ]
  },
  {
   "cell_type": "markdown",
   "metadata": {},
   "source": [
    "##### false, true"
   ]
  },
  {
   "cell_type": "code",
   "execution_count": 33,
   "metadata": {
    "collapsed": false
   },
   "outputs": [
    {
     "name": "stdout",
     "output_type": "stream",
     "text": [
      "574.121209859848\n"
     ]
    }
   ],
   "source": [
    "start = time.time()\n",
    "myClf_FT = clf2net.clf2net((predictMethod1,predictMethod2),predictMethod,useXtrain = True)\n",
    "myClf_FT.fit(finalTrainUse,yRes['country_destination'])\n",
    "end = time.time()\n",
    "print(end-start)"
   ]
  },
  {
   "cell_type": "code",
   "execution_count": 36,
   "metadata": {
    "collapsed": false
   },
   "outputs": [
    {
     "name": "stdout",
     "output_type": "stream",
     "text": [
      "1.5759568214416504\n"
     ]
    }
   ],
   "source": [
    "start = time.time()\n",
    "y_pred = myClf_FT.predict(finalTestUse)\n",
    "end = time.time()\n",
    "print(end-start)\n",
    "d = {'id' : idCol, 'country' : pd.Series(y_pred)}\n",
    "df = pd.DataFrame(d,columns=['id', 'country'])\n",
    "df.to_csv('../submission/submission_clf2netFT_S.csv',index=False)"
   ]
  },
  {
   "cell_type": "markdown",
   "metadata": {},
   "source": [
    "##### true, false"
   ]
  },
  {
   "cell_type": "code",
   "execution_count": 35,
   "metadata": {
    "collapsed": false
   },
   "outputs": [
    {
     "name": "stdout",
     "output_type": "stream",
     "text": [
      "201.41696667671204\n"
     ]
    }
   ],
   "source": [
    "start = time.time()\n",
    "myClf_TF = clf2net.clf2net((predictMethod1,predictMethod2),predictMethod,splitTrain = True)\n",
    "myClf_TF.fit(finalTrainUse,yRes['country_destination'])\n",
    "end = time.time()\n",
    "print(end-start)"
   ]
  },
  {
   "cell_type": "code",
   "execution_count": 37,
   "metadata": {
    "collapsed": false
   },
   "outputs": [
    {
     "name": "stdout",
     "output_type": "stream",
     "text": [
      "0.5930314064025879\n"
     ]
    }
   ],
   "source": [
    "start = time.time()\n",
    "y_pred = myClf_TF.predict(finalTestUse)\n",
    "end = time.time()\n",
    "print(end-start)\n",
    "d = {'id' : idCol, 'country' : pd.Series(y_pred)}\n",
    "df = pd.DataFrame(d,columns=['id', 'country'])\n",
    "df.to_csv('../submission/submission_clf2netTF_S.csv',index=False)"
   ]
  },
  {
   "cell_type": "markdown",
   "metadata": {},
   "source": [
    "##### true, true"
   ]
  },
  {
   "cell_type": "code",
   "execution_count": 6,
   "metadata": {
    "collapsed": false
   },
   "outputs": [
    {
     "name": "stdout",
     "output_type": "stream",
     "text": [
      "833.6189291477203\n"
     ]
    }
   ],
   "source": [
    "start = time.time()\n",
    "myClf_TT = clf2net.clf2net((predictMethod1,predictMethod2),predictMethod,splitTrain = True, useXtrain = True)\n",
    "myClf_TT.fit(finalTrainUse,yRes['country_destination'])\n",
    "end = time.time()\n",
    "print(end-start)"
   ]
  },
  {
   "cell_type": "code",
   "execution_count": 8,
   "metadata": {
    "collapsed": false
   },
   "outputs": [
    {
     "name": "stdout",
     "output_type": "stream",
     "text": [
      "10.180418014526367\n"
     ]
    }
   ],
   "source": [
    "start = time.time()\n",
    "myClf_TT.predict(finalTestUse)\n",
    "end = time.time()\n",
    "print(end-start)\n",
    "y_pred = myClf_TT.get_y_pred()\n",
    "y_pred_proba_temp = myClf_TT.predict_proba(finalTestUse)\n",
    "idCol = finalTest['id']\n",
    "idCol = idCol.reset_index(drop=True)\n",
    "d = {'id' : idCol, 'country' : pd.Series(y_pred[0])}\n",
    "df = pd.DataFrame(d,columns=['id', 'country'])\n",
    "#df.to_csv('../submission/submission_clf2netTT_regression2_S.csv',index=False)\n",
    "d = {'id' : idCol, 'country' : pd.Series(y_pred[1])}\n",
    "df = pd.DataFrame(d,columns=['id', 'country'])\n",
    "df.to_csv('../submission/submission_clf2netTT_gradient_S.csv',index=False)\n",
    "d = {'id' : idCol, 'country' : pd.Series(y_pred[2])}\n",
    "df = pd.DataFrame(d,columns=['id', 'country'])\n",
    "df.to_csv('../submission/submission_clf2netTT_grad_reg_S.csv',index=False)"
   ]
  },
  {
   "cell_type": "markdown",
   "metadata": {},
   "source": [
    "#### to put 5 destination"
   ]
  },
  {
   "cell_type": "code",
   "execution_count": 9,
   "metadata": {
    "collapsed": false
   },
   "outputs": [
    {
     "name": "stdout",
     "output_type": "stream",
     "text": [
      "5.286401748657227\n"
     ]
    }
   ],
   "source": [
    "start = time.time()\n",
    "y_pred_proba_temp = myClf_TT.predict_proba(finalTestUse)\n",
    "end = time.time()\n",
    "print(end-start)\n",
    "myArr = []\n",
    "for x in y_pred_proba_temp:\n",
    "    order = np.argsort(x)[::-1]\n",
    "    for i in myClf_TT.classes_()[order[:5]]:\n",
    "        myArr.append(i)\n",
    "idCol = finalTest.id.repeat(5)\n",
    "idCol = idCol.reset_index(drop=True)"
   ]
  },
  {
   "cell_type": "code",
   "execution_count": 10,
   "metadata": {
    "collapsed": true
   },
   "outputs": [],
   "source": [
    "d = {'id' : idCol , 'country' : pd.Series(myArr)}"
   ]
  },
  {
   "cell_type": "code",
   "execution_count": 11,
   "metadata": {
    "collapsed": true
   },
   "outputs": [],
   "source": [
    "df = pd.DataFrame(d,columns=['id', 'country'])\n",
    "df.to_csv('../submission/submission_clf2netTT_grad_reg_M.csv',index=False)"
   ]
  }
 ],
 "metadata": {
  "anaconda-cloud": {},
  "kernelspec": {
   "display_name": "Python [conda root]",
   "language": "python",
   "name": "conda-root-py"
  },
  "language_info": {
   "codemirror_mode": {
    "name": "ipython",
    "version": 3
   },
   "file_extension": ".py",
   "mimetype": "text/x-python",
   "name": "python",
   "nbconvert_exporter": "python",
   "pygments_lexer": "ipython3",
   "version": "3.5.2"
  }
 },
 "nbformat": 4,
 "nbformat_minor": 1
}
