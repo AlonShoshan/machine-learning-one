{
 "cells": [
  {
   "cell_type": "code",
   "execution_count": 1,
   "metadata": {
    "collapsed": false
   },
   "outputs": [
    {
     "name": "stderr",
     "output_type": "stream",
     "text": [
      "C:\\Anaconda3\\lib\\site-packages\\sklearn\\cross_validation.py:44: DeprecationWarning: This module was deprecated in version 0.18 in favor of the model_selection module into which all the refactored classes and functions are moved. Also note that the interface of the new CV iterators are different from that of this module. This module will be removed in 0.20.\n",
      "  \"This module will be removed in 0.20.\", DeprecationWarning)\n"
     ]
    }
   ],
   "source": [
    "import basicLib.loadAndTest as orig\n",
    "import basicLib.featureUpdate as featUp\n",
    "import numpy as np\n",
    "import pandas as pd\n",
    "import matplotlib.pyplot as plt\n",
    "import seaborn as sns\n",
    "from pandas import *\n",
    "from pylab import *\n",
    "from sklearn import preprocessing\n",
    "from sklearn.cross_validation import train_test_split\n",
    "from sklearn import metrics\n",
    "import re\n",
    "from sklearn.linear_model import LogisticRegression\n",
    "import basicLib.modelRun as runms\n",
    "from sklearn.neural_network import MLPClassifier\n",
    "from sklearn import tree\n",
    "import time\n",
    "import clf2net\n",
    "import clf2netTest\n",
    "import clf2netTree\n",
    "from sklearn import ensemble"
   ]
  },
  {
   "cell_type": "code",
   "execution_count": 2,
   "metadata": {
    "collapsed": true
   },
   "outputs": [],
   "source": [
    "pathTrain = '../input_clean/users_train_final.csv'\n",
    "pathTest = '../input_clean/users_test_final.csv'\n",
    "pathyRes = '../input_clean/yRes_final.csv'"
   ]
  },
  {
   "cell_type": "code",
   "execution_count": 3,
   "metadata": {
    "collapsed": true
   },
   "outputs": [],
   "source": [
    "finalTrain = pd.read_csv(pathTrain)\n",
    "finalTest = pd.read_csv(pathTest)\n",
    "yRes = pd.read_csv(pathyRes)"
   ]
  },
  {
   "cell_type": "code",
   "execution_count": 4,
   "metadata": {
    "collapsed": true
   },
   "outputs": [],
   "source": [
    "finalTrainUse = finalTrain.drop('id',axis=1)\n",
    "finalTestUse = finalTest.drop('id',axis=1)"
   ]
  },
  {
   "cell_type": "markdown",
   "metadata": {},
   "source": [
    "### training"
   ]
  },
  {
   "cell_type": "code",
   "execution_count": 8,
   "metadata": {
    "collapsed": true
   },
   "outputs": [],
   "source": [
    "X_train, X_test, y_train, y_test = train_test_split(finalTrain, yRes['country_destination'])"
   ]
  },
  {
   "cell_type": "code",
   "execution_count": null,
   "metadata": {
    "collapsed": true
   },
   "outputs": [],
   "source": [
    "predictMethod = LogisticRegression()\n",
    "predictMethod.fit(X_train,y_train)"
   ]
  },
  {
   "cell_type": "code",
   "execution_count": null,
   "metadata": {
    "collapsed": true
   },
   "outputs": [],
   "source": [
    "y_pred = predictMethod.predict(X_test)\n",
    "accuracy_score = metrics.accuracy_score(y_test, y_pred)\n",
    "y_pred_proba_temp = predictMethod.predict_proba(X_test)"
   ]
  },
  {
   "cell_type": "code",
   "execution_count": null,
   "metadata": {
    "collapsed": true
   },
   "outputs": [],
   "source": [
    "accuracy_score"
   ]
  },
  {
   "cell_type": "code",
   "execution_count": null,
   "metadata": {
    "collapsed": true
   },
   "outputs": [],
   "source": [
    "myArr = []\n",
    "for x in y_pred_proba_temp:\n",
    "    order = np.argsort(x)[::-1]\n",
    "    myArr.append(predictMethod.classes_[order[:5]])"
   ]
  },
  {
   "cell_type": "code",
   "execution_count": 14,
   "metadata": {
    "collapsed": false
   },
   "outputs": [
    {
     "data": {
      "text/plain": [
       "213451"
      ]
     },
     "execution_count": 14,
     "metadata": {},
     "output_type": "execute_result"
    }
   ],
   "source": [
    "len(finalTrainUse)"
   ]
  },
  {
   "cell_type": "markdown",
   "metadata": {},
   "source": [
    "### send to airbnb - regression"
   ]
  },
  {
   "cell_type": "code",
   "execution_count": 5,
   "metadata": {
    "collapsed": false
   },
   "outputs": [
    {
     "name": "stdout",
     "output_type": "stream",
     "text": [
      "401.3115849494934\n"
     ]
    }
   ],
   "source": [
    "start = time.time()\n",
    "predictMethod = LogisticRegression()\n",
    "predictMethod.fit(finalTrainUse,yRes['country_destination'])\n",
    "end = time.time()\n",
    "print(end-start)"
   ]
  },
  {
   "cell_type": "code",
   "execution_count": 6,
   "metadata": {
    "collapsed": true
   },
   "outputs": [],
   "source": [
    "y_pred = predictMethod.predict(finalTestUse)\n",
    "#accuracy_score = metrics.accuracy_score(y_test, y_pred)\n",
    "y_pred_proba_temp = predictMethod.predict_proba(finalTestUse)"
   ]
  },
  {
   "cell_type": "markdown",
   "metadata": {},
   "source": [
    "#### only 1 destionation"
   ]
  },
  {
   "cell_type": "code",
   "execution_count": 7,
   "metadata": {
    "collapsed": false
   },
   "outputs": [],
   "source": [
    "idCol = finalTest['id']\n",
    "idCol = idCol.reset_index(drop=True)\n",
    "d = {'id' : idCol, 'country' : pd.Series(y_pred)}"
   ]
  },
  {
   "cell_type": "code",
   "execution_count": 8,
   "metadata": {
    "collapsed": true
   },
   "outputs": [],
   "source": [
    "df = pd.DataFrame(d,columns=['id', 'country'])\n",
    "df.to_csv('../submission/submission_regression_sessionsS.csv',index=False)"
   ]
  },
  {
   "cell_type": "markdown",
   "metadata": {},
   "source": [
    "#### to put 5 destination"
   ]
  },
  {
   "cell_type": "code",
   "execution_count": 10,
   "metadata": {
    "collapsed": false
   },
   "outputs": [],
   "source": [
    "myArr = []\n",
    "for x in y_pred_proba_temp:\n",
    "    order = np.argsort(x)[::-1]\n",
    "    for i in predictMethod.classes_[order[:5]]:\n",
    "        myArr.append(i)\n",
    "idCol = finalTest.id.repeat(5)\n",
    "idCol = idCol.reset_index(drop=True)"
   ]
  },
  {
   "cell_type": "code",
   "execution_count": 11,
   "metadata": {
    "collapsed": true
   },
   "outputs": [],
   "source": [
    "d = {'id' : idCol , 'country' : pd.Series(myArr)}"
   ]
  },
  {
   "cell_type": "code",
   "execution_count": 12,
   "metadata": {
    "collapsed": true
   },
   "outputs": [],
   "source": [
    "df = pd.DataFrame(d,columns=['id', 'country'])\n",
    "df.to_csv('../submission/submission_regression_sessionsM.csv',index=False)"
   ]
  },
  {
   "cell_type": "markdown",
   "metadata": {},
   "source": [
    "### send to airbnb - tree"
   ]
  },
  {
   "cell_type": "code",
   "execution_count": 13,
   "metadata": {
    "collapsed": false
   },
   "outputs": [
    {
     "name": "stdout",
     "output_type": "stream",
     "text": [
      "18.91662073135376\n"
     ]
    }
   ],
   "source": [
    "start = time.time()\n",
    "predictMethod_tree = tree.DecisionTreeClassifier()\n",
    "predictMethod_tree.fit(finalTrainUse,yRes['country_destination'])\n",
    "end = time.time()\n",
    "print(end-start)"
   ]
  },
  {
   "cell_type": "code",
   "execution_count": 14,
   "metadata": {
    "collapsed": true
   },
   "outputs": [],
   "source": [
    "y_pred = predictMethod_tree.predict(finalTestUse)\n",
    "#accuracy_score = metrics.accuracy_score(y_test, y_pred)\n",
    "y_pred_proba_temp = predictMethod_tree.predict_proba(finalTestUse)"
   ]
  },
  {
   "cell_type": "code",
   "execution_count": 16,
   "metadata": {
    "collapsed": true
   },
   "outputs": [],
   "source": [
    "idCol = finalTest['id']\n",
    "idCol = idCol.reset_index(drop=True)\n",
    "d = {'id' : idCol, 'country' : pd.Series(y_pred)}"
   ]
  },
  {
   "cell_type": "code",
   "execution_count": 18,
   "metadata": {
    "collapsed": true
   },
   "outputs": [],
   "source": [
    "df = pd.DataFrame(d,columns=['id', 'country'])\n",
    "df.to_csv('../submission/submission_tree_sessionsS.csv',index=False)"
   ]
  },
  {
   "cell_type": "code",
   "execution_count": 19,
   "metadata": {
    "collapsed": true
   },
   "outputs": [],
   "source": [
    "myArr = []\n",
    "for x in y_pred_proba_temp:\n",
    "    order = np.argsort(x)[::-1]\n",
    "    for i in predictMethod.classes_[order[:5]]:\n",
    "        myArr.append(i)\n",
    "idCol = finalTest.id.repeat(5)\n",
    "idCol = idCol.reset_index(drop=True)\n",
    "d = {'id' : idCol , 'country' : pd.Series(myArr)}\n",
    "df = pd.DataFrame(d,columns=['id', 'country'])\n",
    "df.to_csv('../submission/submission_tree_sessionsM.csv',index=False)"
   ]
  },
  {
   "cell_type": "markdown",
   "metadata": {},
   "source": [
    "### send to airbnb - neural"
   ]
  },
  {
   "cell_type": "code",
   "execution_count": 20,
   "metadata": {
    "collapsed": false
   },
   "outputs": [
    {
     "name": "stdout",
     "output_type": "stream",
     "text": [
      "179.21100521087646\n"
     ]
    }
   ],
   "source": [
    "start = time.time()\n",
    "predictMethod_NN = MLPClassifier(solver='lbfgs', alpha=1e-5)\n",
    "predictMethod_NN.fit(finalTrainUse,yRes['country_destination'])\n",
    "end = time.time()\n",
    "print(end-start)"
   ]
  },
  {
   "cell_type": "code",
   "execution_count": 21,
   "metadata": {
    "collapsed": true
   },
   "outputs": [],
   "source": [
    "y_pred = predictMethod_NN.predict(finalTestUse)\n",
    "#accuracy_score = metrics.accuracy_score(y_test, y_pred)\n",
    "y_pred_proba_temp = predictMethod_NN.predict_proba(finalTestUse)\n",
    "idCol = finalTest['id']\n",
    "idCol = idCol.reset_index(drop=True)\n",
    "d = {'id' : idCol, 'country' : pd.Series(y_pred)}\n",
    "df = pd.DataFrame(d,columns=['id', 'country'])\n",
    "df.to_csv('../submission/submission_NN_sessionsS.csv',index=False)\n",
    "myArr = []\n",
    "for x in y_pred_proba_temp:\n",
    "    order = np.argsort(x)[::-1]\n",
    "    for i in predictMethod.classes_[order[:5]]:\n",
    "        myArr.append(i)\n",
    "idCol = finalTest.id.repeat(5)\n",
    "idCol = idCol.reset_index(drop=True)\n",
    "d = {'id' : idCol , 'country' : pd.Series(myArr)}\n",
    "df = pd.DataFrame(d,columns=['id', 'country'])\n",
    "df.to_csv('../submission/submission_NN_sessionsM.csv',index=False)"
   ]
  },
  {
   "cell_type": "code",
   "execution_count": null,
   "metadata": {
    "collapsed": true
   },
   "outputs": [],
   "source": []
  }
 ],
 "metadata": {
  "anaconda-cloud": {},
  "kernelspec": {
   "display_name": "Python [conda root]",
   "language": "python",
   "name": "conda-root-py"
  },
  "language_info": {
   "codemirror_mode": {
    "name": "ipython",
    "version": 3
   },
   "file_extension": ".py",
   "mimetype": "text/x-python",
   "name": "python",
   "nbconvert_exporter": "python",
   "pygments_lexer": "ipython3",
   "version": "3.5.2"
  }
 },
 "nbformat": 4,
 "nbformat_minor": 1
}
