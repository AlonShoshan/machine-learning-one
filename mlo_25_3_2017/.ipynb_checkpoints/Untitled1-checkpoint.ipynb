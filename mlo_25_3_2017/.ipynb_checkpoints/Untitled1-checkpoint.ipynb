{
 "cells": [
  {
   "cell_type": "code",
   "execution_count": 1,
   "metadata": {
    "collapsed": false
   },
   "outputs": [
    {
     "name": "stderr",
     "output_type": "stream",
     "text": [
      "C:\\Anaconda3\\lib\\site-packages\\sklearn\\cross_validation.py:44: DeprecationWarning: This module was deprecated in version 0.18 in favor of the model_selection module into which all the refactored classes and functions are moved. Also note that the interface of the new CV iterators are different from that of this module. This module will be removed in 0.20.\n",
      "  \"This module will be removed in 0.20.\", DeprecationWarning)\n"
     ]
    }
   ],
   "source": [
    "import basicLib.loadAndTest as orig\n",
    "import basicLib.featureUpdate as featUp\n",
    "import numpy as np\n",
    "import pandas as pd\n",
    "import matplotlib.pyplot as plt\n",
    "import seaborn as sns\n",
    "from pandas import *\n",
    "from pylab import *\n",
    "from sklearn import preprocessing\n",
    "from sklearn.cross_validation import train_test_split\n",
    "from sklearn import metrics\n",
    "import re\n",
    "from sklearn.linear_model import LogisticRegression\n",
    "import basicLib.modelRun as runms\n",
    "from sklearn.neural_network import MLPClassifier\n",
    "from sklearn import tree\n",
    "import time\n",
    "import clf2net\n",
    "import clf2netTest\n",
    "import clf2netTree\n",
    "from sklearn import ensemble"
   ]
  },
  {
   "cell_type": "code",
   "execution_count": 11,
   "metadata": {
    "collapsed": false
   },
   "outputs": [],
   "source": [
    "path = '../input_clean/users_2014_in_sessions.csv'\n",
    "usersTrain = orig.loadAndUpdateFeatures(path)\n",
    "featureListTrain = orig.featureList(myList = ('affiliate_channel','affiliate_provider','first_affiliate_tracked',\n",
    "                           'first_browser','first_device_type','language','signup_app','signup_method',\n",
    "                           'signup_flow','date_account_created_dayofweek','date_first_active_dayofweek','age',\n",
    "                           'validAge','gender'), usersCol=usersTrain.columns)\n",
    "orig.initiateUsers(usersTrain)\n",
    "Xtrain = orig.sortFeatures(usersTrain,featureListTrain.get())\n",
    "\n",
    "path = '../input_clean/test_users.csv'\n",
    "featureStruct = featUp.generateFeatureStruct()\n",
    "del featureStruct[3]\n",
    "featureStruct[3] = featUp.categoryFeature(categorical_features=('affiliate_channel',\n",
    "                                                   'affiliate_provider',\n",
    "                                                   'first_affiliate_tracked',\n",
    "                                                   'first_browser',\n",
    "                                                   'first_device_type',\n",
    "                                                   'gender',\n",
    "                                                   'language',\n",
    "                                                   'signup_app',\n",
    "                                                   'signup_method',\n",
    "                                                   'signup_flow')   )\n",
    "usersTest = orig.loadAndUpdateFeatures(path, featureStruct=featureStruct)\n",
    "featureListTest = orig.featureList(myList = ('affiliate_channel','affiliate_provider','first_affiliate_tracked',\n",
    "                           'first_browser','first_device_type','language','signup_app','signup_method',\n",
    "                           'signup_flow','date_account_created_dayofweek','date_first_active_dayofweek','age',\n",
    "                           'validAge','gender'), usersCol=usersTest.columns)\n",
    "orig.initiateUsers(usersTest)\n",
    "Xtest = orig.sortFeatures(usersTest,featureListTest.get())"
   ]
  },
  {
   "cell_type": "code",
   "execution_count": null,
   "metadata": {
    "collapsed": false
   },
   "outputs": [],
   "source": [
    "pd.concat([Xtrain,Xtest],ignore_index=True)"
   ]
  },
  {
   "cell_type": "code",
   "execution_count": null,
   "metadata": {
    "collapsed": false
   },
   "outputs": [],
   "source": [
    "X_byteDF = orig.category2binaryFeatures(pd.concat([d1,d2],ignore_index=True))"
   ]
  },
  {
   "cell_type": "code",
   "execution_count": 28,
   "metadata": {
    "collapsed": false
   },
   "outputs": [
    {
     "name": "stdout",
     "output_type": "stream",
     "text": [
      "first_browser : IBrowse\n",
      "first_browser : Nintendo Browser\n",
      "first_browser : UC Browser\n",
      "language : -unknown-\n",
      "signup_method : weibo\n",
      "signup_flow : 14\n",
      "age : 0.396201240981\n"
     ]
    }
   ],
   "source": [
    "for i in range(len(Xtest.columns)):\n",
    "    attrTest = getattr(Xtest,Xtest.columns[i])\n",
    "    attrTrain = getattr(Xtrain,Xtrain.columns[i])\n",
    "    for x in attrTest.unique():\n",
    "        if x not in attrTrain.unique():\n",
    "            print(Xtest.columns[i],':', x)"
   ]
  },
  {
   "cell_type": "code",
   "execution_count": 41,
   "metadata": {
    "collapsed": false
   },
   "outputs": [
    {
     "name": "stdout",
     "output_type": "stream",
     "text": [
      "affiliate_channel_0\n",
      "affiliate_channel_1\n",
      "affiliate_channel_2\n",
      "affiliate_channel_3\n",
      "affiliate_channel_4\n",
      "affiliate_channel_5\n",
      "affiliate_channel_6\n",
      "affiliate_provider_0\n",
      "affiliate_provider_1\n",
      "affiliate_provider_2\n",
      "affiliate_provider_3\n",
      "affiliate_provider_4\n",
      "affiliate_provider_5\n",
      "affiliate_provider_6\n",
      "affiliate_provider_7\n",
      "affiliate_provider_8\n",
      "affiliate_provider_9\n",
      "affiliate_provider_10\n",
      "affiliate_provider_11\n",
      "affiliate_provider_12\n",
      "affiliate_provider_13\n",
      "affiliate_provider_14\n",
      "affiliate_provider_15\n",
      "affiliate_provider_16\n",
      "first_affiliate_tracked_0\n",
      "first_affiliate_tracked_1\n",
      "first_affiliate_tracked_2\n",
      "first_affiliate_tracked_3\n",
      "first_affiliate_tracked_4\n",
      "first_affiliate_tracked_5\n",
      "first_affiliate_tracked_6\n",
      "first_affiliate_tracked_7\n",
      "first_browser_0\n",
      "first_browser_1\n",
      "first_browser_2\n",
      "first_browser_3\n",
      "first_browser_4\n",
      "first_browser_5\n",
      "first_browser_6\n",
      "first_browser_7\n",
      "first_browser_8\n",
      "first_browser_9\n",
      "first_browser_10\n",
      "first_browser_11\n",
      "first_browser_12\n",
      "first_browser_13\n",
      "first_browser_14\n",
      "first_browser_15\n",
      "first_browser_16\n",
      "first_browser_17\n",
      "first_browser_18\n",
      "first_browser_19\n",
      "first_browser_20\n",
      "first_browser_21\n",
      "first_browser_22\n",
      "first_browser_23\n",
      "first_browser_24\n",
      "first_browser_25\n",
      "first_browser_26\n",
      "first_browser_27\n",
      "first_browser_28\n",
      "first_browser_29\n",
      "first_browser_30\n",
      "first_device_type_0\n",
      "first_device_type_1\n",
      "first_device_type_2\n",
      "first_device_type_3\n",
      "first_device_type_4\n",
      "first_device_type_5\n",
      "first_device_type_6\n",
      "first_device_type_7\n",
      "first_device_type_8\n",
      "language_0\n",
      "language_1\n",
      "language_2\n",
      "language_3\n",
      "language_4\n",
      "language_5\n",
      "language_6\n",
      "language_7\n",
      "language_8\n",
      "language_9\n",
      "language_10\n",
      "language_11\n",
      "language_12\n",
      "language_13\n",
      "language_14\n",
      "language_15\n",
      "language_16\n",
      "language_17\n",
      "language_18\n",
      "language_19\n",
      "language_20\n",
      "language_21\n",
      "language_22\n",
      "language_23\n",
      "signup_app_0\n",
      "signup_app_1\n",
      "signup_app_2\n",
      "signup_app_3\n",
      "signup_method_0\n",
      "signup_method_1\n",
      "signup_method_2\n",
      "signup_method_3\n",
      "signup_flow_0\n",
      "signup_flow_1\n",
      "signup_flow_2\n",
      "signup_flow_3\n",
      "signup_flow_4\n",
      "signup_flow_5\n",
      "signup_flow_6\n",
      "date_account_created_dayofweek_0\n",
      "date_account_created_dayofweek_1\n",
      "date_account_created_dayofweek_2\n",
      "date_account_created_dayofweek_3\n",
      "date_account_created_dayofweek_4\n",
      "date_account_created_dayofweek_5\n",
      "date_account_created_dayofweek_6\n",
      "date_first_active_dayofweek_0\n",
      "date_first_active_dayofweek_1\n",
      "date_first_active_dayofweek_2\n",
      "date_first_active_dayofweek_3\n",
      "date_first_active_dayofweek_4\n",
      "date_first_active_dayofweek_5\n",
      "date_first_active_dayofweek_6\n",
      "gender_0\n",
      "gender_1\n",
      "gender_2\n",
      "gender_3\n",
      "age\n",
      "validAge\n"
     ]
    }
   ],
   "source": [
    "for x in X_byteDF.columns:\n",
    "    print(x)"
   ]
  },
  {
   "cell_type": "markdown",
   "metadata": {},
   "source": [
    "## new try"
   ]
  },
  {
   "cell_type": "code",
   "execution_count": 15,
   "metadata": {
    "collapsed": false
   },
   "outputs": [],
   "source": [
    "pathTrain = '../input_clean/users_train_norm.csv'\n",
    "pathTest = '../input_clean/users_test_norm.csv'\n",
    "\n",
    "usersTrain = pd.read_csv(pathTrain)\n",
    "usersTest = pd.read_csv(pathTest)\n",
    "featureStruct=featUp.generateFeatureStruct()\n",
    "del featureStruct[3]\n",
    "featureStruct[3] = featUp.categoryFeature(categorical_features=('affiliate_channel',\n",
    "                                                   'affiliate_provider',\n",
    "                                                   'first_affiliate_tracked',\n",
    "                                                   'first_browser',\n",
    "                                                   'first_device_type',\n",
    "                                                   'gender',\n",
    "                                                   'language',\n",
    "                                                   'signup_app',\n",
    "                                                   'signup_method',\n",
    "                                                   'signup_flow')   )\n",
    "yRes = usersTrain['country_destination']\n",
    "usersTrain = usersTrain.drop('country_destination',axis=1)\n",
    "\n",
    "users = pd.concat([usersTrain,usersTest],ignore_index=True)\n",
    "for feature in featureStruct:\n",
    "    feature.update(users)\n",
    "\n",
    "featureList = orig.featureList(myList = ('affiliate_channel','affiliate_provider','first_affiliate_tracked',\n",
    "                           'first_browser','first_device_type','language','signup_app','signup_method',\n",
    "                           'signup_flow','date_account_created_dayofweek','date_first_active_dayofweek','age',\n",
    "                           'validAge','gender'), usersCol=usersTrain.columns)\n",
    "\n",
    "orig.initiateUsers(users)\n",
    "Xtest = orig.sortFeatures(users,featureList.get())"
   ]
  },
  {
   "cell_type": "code",
   "execution_count": 3,
   "metadata": {
    "collapsed": false
   },
   "outputs": [],
   "source": [
    "Xlabel = Xtest\n",
    "nonCategoryList=[]\n",
    "for feature, dtype in Xlabel.dtypes.iteritems():\n",
    "    if dtype.name != 'category':\n",
    "        nonCategoryList.append(feature)\n",
    "nonCategoryDF = Xlabel[nonCategoryList]\n",
    "Xlabel = Xlabel.drop(nonCategoryList, 1)\n",
    "\n",
    "labels = Xlabel.columns\n",
    "myLabels = {} # holds the encode labels with value between 0 and n-1\n",
    "n_values = [] # holds the length of each feature in bits ('gender' with 4 option will be 4 bits)\n",
    "X = []\n",
    "for label in Xlabel:\n",
    "    labelAttr = getattr(Xlabel, label)\n",
    "    myLabels[label] = preprocessing.LabelEncoder()\n",
    "    myLabels[label].fit(labelAttr)\n",
    "    if size(labelAttr.unique()) > 400:\n",
    "        raise TypeError('The feature:', label, 'is too big to handle as binary')\n",
    "    n_values.append(size(labelAttr.unique()))\n",
    "    #transform: turn options into 0 to n-1,  reshape+transpose: align the coulumn so it be easier to add them to the table \n",
    "    X.append(myLabels[label].transform(labelAttr).reshape(1,len(labelAttr)).transpose())\n",
    "\n",
    "#There is no category to change\n",
    "\n",
    "temp = np.array([]).reshape(len(X[0]),0)\n",
    "for i in range(len(X)):\n",
    "    temp = concatenate((temp,X[i]),axis=1)\n",
    "X = temp\n",
    "\n",
    "enc = preprocessing.OneHotEncoder(n_values=n_values)\n",
    "enc.fit(X)\n",
    "X_byte = enc.transform(X).toarray()\n",
    "\n",
    "X_byteDF = orig.makeDataFrame(X_byte,labels,n_values)\n",
    "result = pd.concat([X_byteDF, nonCategoryDF], axis=1)"
   ]
  },
  {
   "cell_type": "code",
   "execution_count": 4,
   "metadata": {
    "collapsed": false,
    "scrolled": true
   },
   "outputs": [
    {
     "name": "stdout",
     "output_type": "stream",
     "text": [
      "first_affiliate_tracked : nan\n",
      "first_browser : Opera Mobile\n",
      "first_browser : IBrowse\n",
      "first_browser : Nintendo Browser\n",
      "first_browser : CometBird\n",
      "first_browser : UC Browser\n",
      "language : -unknown-\n",
      "signup_method : weibo\n",
      "signup_flow : 14\n"
     ]
    }
   ],
   "source": [
    "myDrop = {}\n",
    "myList=('affiliate_channel', 'affiliate_provider', 'first_affiliate_tracked',\n",
    "        'first_browser', 'first_device_type', 'gender', 'language',\n",
    "        'signup_app', 'signup_method', 'signup_flow')\n",
    "for i in myList:\n",
    "    attrTest = getattr(usersTest,i)\n",
    "    attrTrain = getattr(usersTrain,i)\n",
    "    myDrop[i] = []\n",
    "    for x in attrTest.unique():\n",
    "        if x not in attrTrain.unique():\n",
    "            myDrop[i].append(x)\n",
    "            print(i,':', x)"
   ]
  },
  {
   "cell_type": "code",
   "execution_count": 5,
   "metadata": {
    "collapsed": false
   },
   "outputs": [
    {
     "name": "stdout",
     "output_type": "stream",
     "text": [
      "first_affiliate_tracked , nan\n",
      "first_browser , Opera Mobile\n",
      "first_browser , IBrowse\n",
      "first_browser , Nintendo Browser\n",
      "first_browser , CometBird\n",
      "first_browser , UC Browser\n",
      "language , -unknown-\n",
      "signup_flow , 14\n",
      "signup_method , weibo\n"
     ]
    }
   ],
   "source": [
    "for key in myDrop.keys():\n",
    "    for testCat in myDrop[key]:\n",
    "        print(key,',', testCat)\n",
    "        if pd.isnull(testCat): continue\n",
    "        myInd = myLabels[key].classes_.tolist().index(testCat)\n",
    "        label = key + '_' + str(myInd)\n",
    "        result = result.drop(label,axis=1)"
   ]
  },
  {
   "cell_type": "code",
   "execution_count": 6,
   "metadata": {
    "collapsed": true
   },
   "outputs": [],
   "source": [
    "orig.normDf(result)"
   ]
  },
  {
   "cell_type": "code",
   "execution_count": 7,
   "metadata": {
    "collapsed": false
   },
   "outputs": [],
   "source": [
    "finalTrain = result[0:len(yRes)]\n",
    "finalTest = result[len(yRes):]"
   ]
  },
  {
   "cell_type": "code",
   "execution_count": 8,
   "metadata": {
    "collapsed": false,
    "scrolled": true
   },
   "outputs": [
    {
     "data": {
      "text/plain": [
       "62096"
      ]
     },
     "execution_count": 8,
     "metadata": {},
     "output_type": "execute_result"
    }
   ],
   "source": [
    "len(finalTest)"
   ]
  },
  {
   "cell_type": "code",
   "execution_count": 9,
   "metadata": {
    "collapsed": true
   },
   "outputs": [],
   "source": [
    "X_train, X_test, y_train, y_test = train_test_split(finalTrain, yRes)"
   ]
  },
  {
   "cell_type": "markdown",
   "metadata": {},
   "source": [
    "### inner test"
   ]
  },
  {
   "cell_type": "code",
   "execution_count": 10,
   "metadata": {
    "collapsed": false
   },
   "outputs": [
    {
     "data": {
      "text/plain": [
       "LogisticRegression(C=1.0, class_weight=None, dual=False, fit_intercept=True,\n",
       "          intercept_scaling=1, max_iter=100, multi_class='ovr', n_jobs=1,\n",
       "          penalty='l2', random_state=None, solver='liblinear', tol=0.0001,\n",
       "          verbose=0, warm_start=False)"
      ]
     },
     "execution_count": 10,
     "metadata": {},
     "output_type": "execute_result"
    }
   ],
   "source": [
    "predictMethod = LogisticRegression()\n",
    "predictMethod.fit(X_train,y_train)"
   ]
  },
  {
   "cell_type": "code",
   "execution_count": 11,
   "metadata": {
    "collapsed": false
   },
   "outputs": [],
   "source": [
    "y_pred = predictMethod.predict(X_test)\n",
    "accuracy_score = metrics.accuracy_score(y_test, y_pred)\n",
    "y_pred_proba_temp = predictMethod.predict_proba(X_test)"
   ]
  },
  {
   "cell_type": "code",
   "execution_count": 12,
   "metadata": {
    "collapsed": false
   },
   "outputs": [
    {
     "data": {
      "text/plain": [
       "0.69442939200173404"
      ]
     },
     "execution_count": 12,
     "metadata": {},
     "output_type": "execute_result"
    }
   ],
   "source": [
    "accuracy_score"
   ]
  },
  {
   "cell_type": "code",
   "execution_count": 13,
   "metadata": {
    "collapsed": true
   },
   "outputs": [],
   "source": [
    "myArr = []\n",
    "for x in y_pred_proba_temp:\n",
    "    order = np.argsort(x)[::-1]\n",
    "    myArr.append(predictMethod.classes_[order[:5]])"
   ]
  },
  {
   "cell_type": "code",
   "execution_count": 14,
   "metadata": {
    "collapsed": false
   },
   "outputs": [
    {
     "data": {
      "text/plain": [
       "0.84987223364960196"
      ]
     },
     "execution_count": 14,
     "metadata": {},
     "output_type": "execute_result"
    }
   ],
   "source": [
    "y_true = np.array(y_test)\n",
    "mySum=0\n",
    "for index in range(len(myArr)):\n",
    "    for i in range(len(myArr[index])):\n",
    "        if(myArr[index][i]==y_true[index]):\n",
    "            mySum += 1/np.log2(i+2)\n",
    "mySum/len(y_true)"
   ]
  },
  {
   "cell_type": "markdown",
   "metadata": {},
   "source": [
    "### send to airbnb"
   ]
  },
  {
   "cell_type": "code",
   "execution_count": 15,
   "metadata": {
    "collapsed": false
   },
   "outputs": [
    {
     "data": {
      "text/plain": [
       "LogisticRegression(C=1.0, class_weight=None, dual=False, fit_intercept=True,\n",
       "          intercept_scaling=1, max_iter=100, multi_class='ovr', n_jobs=1,\n",
       "          penalty='l2', random_state=None, solver='liblinear', tol=0.0001,\n",
       "          verbose=0, warm_start=False)"
      ]
     },
     "execution_count": 15,
     "metadata": {},
     "output_type": "execute_result"
    }
   ],
   "source": [
    "predictMethod = LogisticRegression()\n",
    "predictMethod.fit(finalTrain,yRes)"
   ]
  },
  {
   "cell_type": "code",
   "execution_count": 16,
   "metadata": {
    "collapsed": true
   },
   "outputs": [],
   "source": [
    "y_pred = predictMethod.predict(finalTest)\n",
    "#accuracy_score = metrics.accuracy_score(y_test, y_pred)\n",
    "y_pred_proba_temp = predictMethod.predict_proba(finalTest)"
   ]
  },
  {
   "cell_type": "code",
   "execution_count": 17,
   "metadata": {
    "collapsed": false
   },
   "outputs": [],
   "source": [
    "myArr = []\n",
    "for x in y_pred_proba_temp:\n",
    "    order = np.argsort(x)[::-1]\n",
    "    for i in predictMethod.classes_[order[:5]]:\n",
    "        myArr.append(i)"
   ]
  },
  {
   "cell_type": "code",
   "execution_count": 23,
   "metadata": {
    "collapsed": false
   },
   "outputs": [],
   "source": [
    "idCol = usersTest.id.repeat(5)\n",
    "idCol = idCol.reset_index(drop=True)\n",
    "d = {'id' : idCol , 'country' : pd.Series(myArr)}"
   ]
  },
  {
   "cell_type": "code",
   "execution_count": 24,
   "metadata": {
    "collapsed": false
   },
   "outputs": [],
   "source": [
    "df = pd.DataFrame(d,columns=['id', 'country'])"
   ]
  },
  {
   "cell_type": "code",
   "execution_count": 25,
   "metadata": {
    "collapsed": false
   },
   "outputs": [
    {
     "data": {
      "text/html": [
       "<div>\n",
       "<table border=\"1\" class=\"dataframe\">\n",
       "  <thead>\n",
       "    <tr style=\"text-align: right;\">\n",
       "      <th></th>\n",
       "      <th>id</th>\n",
       "      <th>country</th>\n",
       "    </tr>\n",
       "  </thead>\n",
       "  <tbody>\n",
       "    <tr>\n",
       "      <th>0</th>\n",
       "      <td>5uwns89zht</td>\n",
       "      <td>NDF</td>\n",
       "    </tr>\n",
       "    <tr>\n",
       "      <th>1</th>\n",
       "      <td>5uwns89zht</td>\n",
       "      <td>US</td>\n",
       "    </tr>\n",
       "    <tr>\n",
       "      <th>2</th>\n",
       "      <td>5uwns89zht</td>\n",
       "      <td>other</td>\n",
       "    </tr>\n",
       "    <tr>\n",
       "      <th>3</th>\n",
       "      <td>5uwns89zht</td>\n",
       "      <td>FR</td>\n",
       "    </tr>\n",
       "    <tr>\n",
       "      <th>4</th>\n",
       "      <td>5uwns89zht</td>\n",
       "      <td>ES</td>\n",
       "    </tr>\n",
       "    <tr>\n",
       "      <th>5</th>\n",
       "      <td>jtl0dijy2j</td>\n",
       "      <td>NDF</td>\n",
       "    </tr>\n",
       "    <tr>\n",
       "      <th>6</th>\n",
       "      <td>jtl0dijy2j</td>\n",
       "      <td>US</td>\n",
       "    </tr>\n",
       "    <tr>\n",
       "      <th>7</th>\n",
       "      <td>jtl0dijy2j</td>\n",
       "      <td>other</td>\n",
       "    </tr>\n",
       "    <tr>\n",
       "      <th>8</th>\n",
       "      <td>jtl0dijy2j</td>\n",
       "      <td>FR</td>\n",
       "    </tr>\n",
       "    <tr>\n",
       "      <th>9</th>\n",
       "      <td>jtl0dijy2j</td>\n",
       "      <td>CA</td>\n",
       "    </tr>\n",
       "    <tr>\n",
       "      <th>10</th>\n",
       "      <td>xx0ulgorjt</td>\n",
       "      <td>NDF</td>\n",
       "    </tr>\n",
       "    <tr>\n",
       "      <th>11</th>\n",
       "      <td>xx0ulgorjt</td>\n",
       "      <td>US</td>\n",
       "    </tr>\n",
       "    <tr>\n",
       "      <th>12</th>\n",
       "      <td>xx0ulgorjt</td>\n",
       "      <td>other</td>\n",
       "    </tr>\n",
       "    <tr>\n",
       "      <th>13</th>\n",
       "      <td>xx0ulgorjt</td>\n",
       "      <td>FR</td>\n",
       "    </tr>\n",
       "    <tr>\n",
       "      <th>14</th>\n",
       "      <td>xx0ulgorjt</td>\n",
       "      <td>IT</td>\n",
       "    </tr>\n",
       "    <tr>\n",
       "      <th>15</th>\n",
       "      <td>6c6puo6ix0</td>\n",
       "      <td>NDF</td>\n",
       "    </tr>\n",
       "    <tr>\n",
       "      <th>16</th>\n",
       "      <td>6c6puo6ix0</td>\n",
       "      <td>US</td>\n",
       "    </tr>\n",
       "    <tr>\n",
       "      <th>17</th>\n",
       "      <td>6c6puo6ix0</td>\n",
       "      <td>other</td>\n",
       "    </tr>\n",
       "    <tr>\n",
       "      <th>18</th>\n",
       "      <td>6c6puo6ix0</td>\n",
       "      <td>FR</td>\n",
       "    </tr>\n",
       "    <tr>\n",
       "      <th>19</th>\n",
       "      <td>6c6puo6ix0</td>\n",
       "      <td>IT</td>\n",
       "    </tr>\n",
       "    <tr>\n",
       "      <th>20</th>\n",
       "      <td>czqhjk3yfe</td>\n",
       "      <td>US</td>\n",
       "    </tr>\n",
       "    <tr>\n",
       "      <th>21</th>\n",
       "      <td>czqhjk3yfe</td>\n",
       "      <td>NDF</td>\n",
       "    </tr>\n",
       "    <tr>\n",
       "      <th>22</th>\n",
       "      <td>czqhjk3yfe</td>\n",
       "      <td>other</td>\n",
       "    </tr>\n",
       "    <tr>\n",
       "      <th>23</th>\n",
       "      <td>czqhjk3yfe</td>\n",
       "      <td>FR</td>\n",
       "    </tr>\n",
       "    <tr>\n",
       "      <th>24</th>\n",
       "      <td>czqhjk3yfe</td>\n",
       "      <td>IT</td>\n",
       "    </tr>\n",
       "    <tr>\n",
       "      <th>25</th>\n",
       "      <td>szx28ujmhf</td>\n",
       "      <td>US</td>\n",
       "    </tr>\n",
       "    <tr>\n",
       "      <th>26</th>\n",
       "      <td>szx28ujmhf</td>\n",
       "      <td>NDF</td>\n",
       "    </tr>\n",
       "    <tr>\n",
       "      <th>27</th>\n",
       "      <td>szx28ujmhf</td>\n",
       "      <td>other</td>\n",
       "    </tr>\n",
       "    <tr>\n",
       "      <th>28</th>\n",
       "      <td>szx28ujmhf</td>\n",
       "      <td>IT</td>\n",
       "    </tr>\n",
       "    <tr>\n",
       "      <th>29</th>\n",
       "      <td>szx28ujmhf</td>\n",
       "      <td>FR</td>\n",
       "    </tr>\n",
       "    <tr>\n",
       "      <th>...</th>\n",
       "      <td>...</td>\n",
       "      <td>...</td>\n",
       "    </tr>\n",
       "    <tr>\n",
       "      <th>310450</th>\n",
       "      <td>8yvhec201j</td>\n",
       "      <td>NDF</td>\n",
       "    </tr>\n",
       "    <tr>\n",
       "      <th>310451</th>\n",
       "      <td>8yvhec201j</td>\n",
       "      <td>US</td>\n",
       "    </tr>\n",
       "    <tr>\n",
       "      <th>310452</th>\n",
       "      <td>8yvhec201j</td>\n",
       "      <td>other</td>\n",
       "    </tr>\n",
       "    <tr>\n",
       "      <th>310453</th>\n",
       "      <td>8yvhec201j</td>\n",
       "      <td>IT</td>\n",
       "    </tr>\n",
       "    <tr>\n",
       "      <th>310454</th>\n",
       "      <td>8yvhec201j</td>\n",
       "      <td>FR</td>\n",
       "    </tr>\n",
       "    <tr>\n",
       "      <th>310455</th>\n",
       "      <td>cv0na2lf5a</td>\n",
       "      <td>NDF</td>\n",
       "    </tr>\n",
       "    <tr>\n",
       "      <th>310456</th>\n",
       "      <td>cv0na2lf5a</td>\n",
       "      <td>US</td>\n",
       "    </tr>\n",
       "    <tr>\n",
       "      <th>310457</th>\n",
       "      <td>cv0na2lf5a</td>\n",
       "      <td>other</td>\n",
       "    </tr>\n",
       "    <tr>\n",
       "      <th>310458</th>\n",
       "      <td>cv0na2lf5a</td>\n",
       "      <td>FR</td>\n",
       "    </tr>\n",
       "    <tr>\n",
       "      <th>310459</th>\n",
       "      <td>cv0na2lf5a</td>\n",
       "      <td>IT</td>\n",
       "    </tr>\n",
       "    <tr>\n",
       "      <th>310460</th>\n",
       "      <td>zp8xfonng8</td>\n",
       "      <td>NDF</td>\n",
       "    </tr>\n",
       "    <tr>\n",
       "      <th>310461</th>\n",
       "      <td>zp8xfonng8</td>\n",
       "      <td>US</td>\n",
       "    </tr>\n",
       "    <tr>\n",
       "      <th>310462</th>\n",
       "      <td>zp8xfonng8</td>\n",
       "      <td>other</td>\n",
       "    </tr>\n",
       "    <tr>\n",
       "      <th>310463</th>\n",
       "      <td>zp8xfonng8</td>\n",
       "      <td>IT</td>\n",
       "    </tr>\n",
       "    <tr>\n",
       "      <th>310464</th>\n",
       "      <td>zp8xfonng8</td>\n",
       "      <td>FR</td>\n",
       "    </tr>\n",
       "    <tr>\n",
       "      <th>310465</th>\n",
       "      <td>fa6260ziny</td>\n",
       "      <td>NDF</td>\n",
       "    </tr>\n",
       "    <tr>\n",
       "      <th>310466</th>\n",
       "      <td>fa6260ziny</td>\n",
       "      <td>US</td>\n",
       "    </tr>\n",
       "    <tr>\n",
       "      <th>310467</th>\n",
       "      <td>fa6260ziny</td>\n",
       "      <td>DE</td>\n",
       "    </tr>\n",
       "    <tr>\n",
       "      <th>310468</th>\n",
       "      <td>fa6260ziny</td>\n",
       "      <td>other</td>\n",
       "    </tr>\n",
       "    <tr>\n",
       "      <th>310469</th>\n",
       "      <td>fa6260ziny</td>\n",
       "      <td>IT</td>\n",
       "    </tr>\n",
       "    <tr>\n",
       "      <th>310470</th>\n",
       "      <td>87k0fy4ugm</td>\n",
       "      <td>NDF</td>\n",
       "    </tr>\n",
       "    <tr>\n",
       "      <th>310471</th>\n",
       "      <td>87k0fy4ugm</td>\n",
       "      <td>US</td>\n",
       "    </tr>\n",
       "    <tr>\n",
       "      <th>310472</th>\n",
       "      <td>87k0fy4ugm</td>\n",
       "      <td>other</td>\n",
       "    </tr>\n",
       "    <tr>\n",
       "      <th>310473</th>\n",
       "      <td>87k0fy4ugm</td>\n",
       "      <td>FR</td>\n",
       "    </tr>\n",
       "    <tr>\n",
       "      <th>310474</th>\n",
       "      <td>87k0fy4ugm</td>\n",
       "      <td>IT</td>\n",
       "    </tr>\n",
       "    <tr>\n",
       "      <th>310475</th>\n",
       "      <td>9uqfg8txu3</td>\n",
       "      <td>NDF</td>\n",
       "    </tr>\n",
       "    <tr>\n",
       "      <th>310476</th>\n",
       "      <td>9uqfg8txu3</td>\n",
       "      <td>US</td>\n",
       "    </tr>\n",
       "    <tr>\n",
       "      <th>310477</th>\n",
       "      <td>9uqfg8txu3</td>\n",
       "      <td>other</td>\n",
       "    </tr>\n",
       "    <tr>\n",
       "      <th>310478</th>\n",
       "      <td>9uqfg8txu3</td>\n",
       "      <td>FR</td>\n",
       "    </tr>\n",
       "    <tr>\n",
       "      <th>310479</th>\n",
       "      <td>9uqfg8txu3</td>\n",
       "      <td>IT</td>\n",
       "    </tr>\n",
       "  </tbody>\n",
       "</table>\n",
       "<p>310480 rows × 2 columns</p>\n",
       "</div>"
      ],
      "text/plain": [
       "                id country\n",
       "0       5uwns89zht     NDF\n",
       "1       5uwns89zht      US\n",
       "2       5uwns89zht   other\n",
       "3       5uwns89zht      FR\n",
       "4       5uwns89zht      ES\n",
       "5       jtl0dijy2j     NDF\n",
       "6       jtl0dijy2j      US\n",
       "7       jtl0dijy2j   other\n",
       "8       jtl0dijy2j      FR\n",
       "9       jtl0dijy2j      CA\n",
       "10      xx0ulgorjt     NDF\n",
       "11      xx0ulgorjt      US\n",
       "12      xx0ulgorjt   other\n",
       "13      xx0ulgorjt      FR\n",
       "14      xx0ulgorjt      IT\n",
       "15      6c6puo6ix0     NDF\n",
       "16      6c6puo6ix0      US\n",
       "17      6c6puo6ix0   other\n",
       "18      6c6puo6ix0      FR\n",
       "19      6c6puo6ix0      IT\n",
       "20      czqhjk3yfe      US\n",
       "21      czqhjk3yfe     NDF\n",
       "22      czqhjk3yfe   other\n",
       "23      czqhjk3yfe      FR\n",
       "24      czqhjk3yfe      IT\n",
       "25      szx28ujmhf      US\n",
       "26      szx28ujmhf     NDF\n",
       "27      szx28ujmhf   other\n",
       "28      szx28ujmhf      IT\n",
       "29      szx28ujmhf      FR\n",
       "...            ...     ...\n",
       "310450  8yvhec201j     NDF\n",
       "310451  8yvhec201j      US\n",
       "310452  8yvhec201j   other\n",
       "310453  8yvhec201j      IT\n",
       "310454  8yvhec201j      FR\n",
       "310455  cv0na2lf5a     NDF\n",
       "310456  cv0na2lf5a      US\n",
       "310457  cv0na2lf5a   other\n",
       "310458  cv0na2lf5a      FR\n",
       "310459  cv0na2lf5a      IT\n",
       "310460  zp8xfonng8     NDF\n",
       "310461  zp8xfonng8      US\n",
       "310462  zp8xfonng8   other\n",
       "310463  zp8xfonng8      IT\n",
       "310464  zp8xfonng8      FR\n",
       "310465  fa6260ziny     NDF\n",
       "310466  fa6260ziny      US\n",
       "310467  fa6260ziny      DE\n",
       "310468  fa6260ziny   other\n",
       "310469  fa6260ziny      IT\n",
       "310470  87k0fy4ugm     NDF\n",
       "310471  87k0fy4ugm      US\n",
       "310472  87k0fy4ugm   other\n",
       "310473  87k0fy4ugm      FR\n",
       "310474  87k0fy4ugm      IT\n",
       "310475  9uqfg8txu3     NDF\n",
       "310476  9uqfg8txu3      US\n",
       "310477  9uqfg8txu3   other\n",
       "310478  9uqfg8txu3      FR\n",
       "310479  9uqfg8txu3      IT\n",
       "\n",
       "[310480 rows x 2 columns]"
      ]
     },
     "execution_count": 25,
     "metadata": {},
     "output_type": "execute_result"
    }
   ],
   "source": [
    "df"
   ]
  },
  {
   "cell_type": "code",
   "execution_count": 26,
   "metadata": {
    "collapsed": false
   },
   "outputs": [],
   "source": [
    "df.to_csv('../input_clean/submission_sessions_regression.csv',index=False)"
   ]
  },
  {
   "cell_type": "code",
   "execution_count": null,
   "metadata": {
    "collapsed": true
   },
   "outputs": [],
   "source": []
  }
 ],
 "metadata": {
  "anaconda-cloud": {},
  "kernelspec": {
   "display_name": "Python [conda root]",
   "language": "python",
   "name": "conda-root-py"
  },
  "language_info": {
   "codemirror_mode": {
    "name": "ipython",
    "version": 3
   },
   "file_extension": ".py",
   "mimetype": "text/x-python",
   "name": "python",
   "nbconvert_exporter": "python",
   "pygments_lexer": "ipython3",
   "version": "3.5.2"
  }
 },
 "nbformat": 4,
 "nbformat_minor": 1
}
